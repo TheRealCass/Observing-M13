{
 "cells": [
  {
   "cell_type": "markdown",
   "metadata": {},
   "source": [
    "# Imports"
   ]
  },
  {
   "cell_type": "code",
   "execution_count": null,
   "metadata": {},
   "outputs": [],
   "source": [
    "# Import necessary libraries for mathematical operations and plotting\n",
    "import numpy as np\n",
    "import matplotlib.pyplot as plt\n",
    "from matplotlib.colors import LogNorm\n",
    "from matplotlib.patches import Rectangle\n",
    "import matplotlib.colors as mcolors\n",
    "\n",
    "# Import astropy modules for working with astronomical data\n",
    "import astropy.units as u\n",
    "from astropy.visualization import simple_norm, SqrtStretch\n",
    "from astropy.visualization.mpl_normalize import ImageNormalize\n",
    "from astropy.wcs import WCS\n",
    "from astropy.wcs.utils import proj_plane_pixel_scales\n",
    "from astropy.coordinates import angular_separation, Angle, SkyCoord\n",
    "from astropy.stats import sigma_clipped_stats\n",
    "from astropy.io import fits\n",
    "from astropy.nddata import Cutout2D\n",
    "# Import os for directory operations\n",
    "import os\n",
    "# Import astroalign for aligning astronomical images\n",
    "import astroalign as align\n",
    "# Import twirl for peak finding and WCS (World Coordinate System) computations\n",
    "from twirl import find_peaks\n",
    "from twirl import gaia_radecs\n",
    "from twirl.geometry import sparsify\n",
    "from twirl import compute_wcs\n",
    "# Import photutils for aperture photometry\n",
    "from photutils.aperture import SkyCircularAperture\n",
    "from photutils.detection import DAOStarFinder\n",
    "from photutils.aperture import CircularAperture\n",
    "from pylab import figure, cm\n",
    "# Import pandas for data manipulation\n",
    "import pandas as pd\n",
    "\n",
    "import random"
   ]
  },
  {
   "cell_type": "code",
   "execution_count": null,
   "metadata": {},
   "outputs": [],
   "source": [
    "#Constnats\n",
    "# BLUE_FILTER_COLOR =  'Blues'\n",
    "# RED_FILTER_COLOR =  'Reds'\n",
    "\n",
    "BLUE_FILTER_COLOR =  cm.grey\n",
    "RED_FILTER_COLOR =  cm.grey"
   ]
  },
  {
   "cell_type": "markdown",
   "metadata": {},
   "source": [
    "# Target"
   ]
  },
  {
   "cell_type": "code",
   "execution_count": null,
   "metadata": {},
   "outputs": [],
   "source": [
    "DIRECTORY=\"m2/\"\n",
    "# DIRECTORY=\"m13/\""
   ]
  },
  {
   "cell_type": "markdown",
   "metadata": {},
   "source": [
    "# Gather all the files"
   ]
  },
  {
   "cell_type": "code",
   "execution_count": null,
   "metadata": {},
   "outputs": [],
   "source": [
    "# Define the directories where the FITS files are stored\n",
    "directory_b_filter = DIRECTORY + \"Light_B.fits\"\n",
    "\n",
    "# Load the FITS files into variables\n",
    "b_filter_fits = fits.open(directory_b_filter)\n",
    "b_filter_fits = b_filter_fits[0]"
   ]
  },
  {
   "cell_type": "markdown",
   "metadata": {},
   "source": [
    "# Use twirl to find peaks"
   ]
  },
  {
   "cell_type": "code",
   "execution_count": null,
   "metadata": {},
   "outputs": [],
   "source": [
    "peak_location_b_filter = find_peaks(b_filter_fits.data)[0:20]"
   ]
  },
  {
   "cell_type": "markdown",
   "metadata": {},
   "source": [
    "# Obtain and filter RA/DEC coordinates from the Gaia catalog"
   ]
  },
  {
   "cell_type": "code",
   "execution_count": null,
   "metadata": {},
   "outputs": [],
   "source": [
    "b_filter_center     = (b_filter_fits.header['RA'], b_filter_fits.header['DEC']) \n",
    "fov_b_filter        = 1.2 * 0.65\n",
    "all_radecs_b_filter = gaia_radecs(b_filter_center, fov_b_filter)\n",
    "thrushold           = 0.01 # degrees\n",
    "all_radecs_b_filter = sparsify(all_radecs_b_filter, thrushold)\n"
   ]
  },
  {
   "cell_type": "markdown",
   "metadata": {},
   "source": [
    "# Compute WCS coordinates"
   ]
  },
  {
   "cell_type": "code",
   "execution_count": null,
   "metadata": {},
   "outputs": [],
   "source": [
    "# we only keep the 12 brightest stars from gaia\n",
    "wcs_b_filter = compute_wcs(peak_location_b_filter, all_radecs_b_filter[0:20], tolerance = 10)"
   ]
  },
  {
   "cell_type": "markdown",
   "metadata": {},
   "source": [
    "# Update Header for the lights with the new WCS"
   ]
  },
  {
   "cell_type": "code",
   "execution_count": null,
   "metadata": {},
   "outputs": [],
   "source": [
    "b_filter_fits.header.update(wcs_b_filter.to_header())"
   ]
  },
  {
   "cell_type": "markdown",
   "metadata": {},
   "source": [
    "# Normalize the lights"
   ]
  },
  {
   "cell_type": "code",
   "execution_count": null,
   "metadata": {},
   "outputs": [],
   "source": [
    "b_filter_fits.data = b_filter_fits.data/(16*120.0)"
   ]
  },
  {
   "cell_type": "markdown",
   "metadata": {},
   "source": [
    "# Get the co-orditane of M2 stars and their brightness from Database (CANFAR's Stetson Database)"
   ]
  },
  {
   "cell_type": "code",
   "execution_count": null,
   "metadata": {},
   "outputs": [],
   "source": [
    "# load the data from memory\n",
    "coords = pd.read_csv( DIRECTORY + \"NGC7089.pos\", sep='[ ]{2,}', engine='python') # replace anything w 2 or more spaces with just a space\n",
    "mags = pd.read_csv(DIRECTORY + \"NGC7089.pho\", sep='[ ]{1,}', engine='python') # replace anything w 1 or more spaces with just a space"
   ]
  },
  {
   "cell_type": "markdown",
   "metadata": {},
   "source": [
    "# Let's extract what we need from the stetson database"
   ]
  },
  {
   "cell_type": "code",
   "execution_count": null,
   "metadata": {},
   "outputs": [],
   "source": [
    "# add coloum names to the coordinate file\n",
    "coords.rename(columns={'323.36209232807' : 'RA', '-00.84555554920' : 'DEC'}, inplace=True) # replace the orgonal col names for somethig meaningfull\n",
    "\n",
    "# Convert the DEC column to string type first\n",
    "coords['DEC'] = coords['DEC'].astype(str)\n",
    "\n",
    "# Now you can use the .str accessor to replace spaces\n",
    "coords['DEC'] = coords['DEC'].str.replace(\" \", \"\")\n",
    "\n",
    "# Convert the DEC column back to float type\n",
    "coords['DEC'] = coords['DEC'].astype(float)\n",
    "\n",
    "# Perform the merge with the photometry data\n",
    "stetson = pd.merge(coords[[\"Reference\", 'RA', 'DEC']], mags[[\"Reference\", 'B', 'sigma.1', 'R', 'sigma.3']], how='inner', on=['Reference'])\n",
    "\n",
    "# Filter the stars with magnitude of 18 or brighter\n",
    "stetson = stetson[(stetson.B < 23) & (stetson.R < 23)]\n"
   ]
  },
  {
   "cell_type": "markdown",
   "metadata": {},
   "source": [
    "# Lets plot what we extracted"
   ]
  },
  {
   "cell_type": "code",
   "execution_count": null,
   "metadata": {},
   "outputs": [],
   "source": [
    "stetson_pos_b_filter = np.array(wcs_b_filter.world_to_pixel_values( stetson[[\"RA\", \"DEC\"]] ))\n",
    "ax1 = plt.subplot(projection = wcs_b_filter)\n",
    "ax1.imshow(b_filter_fits.data, vmin = np.median(b_filter_fits.data), vmax = 3 * np.median(b_filter_fits.data), cmap = BLUE_FILTER_COLOR)\n",
    "_ = CircularAperture(stetson_pos_b_filter, 10).plot(color = \"g\", alpha = 0.5)\n",
    "ax1.set_title('Blue Filter')\n",
    "\n",
    "plt.show()\n",
    "plt.savefig(DIRECTORY + \"Steton Catalog Stars.png\")\n",
    "plt.clf()"
   ]
  },
  {
   "cell_type": "markdown",
   "metadata": {},
   "source": [
    "# Lets define & Work with a small subsection\n",
    "#### FOV too large"
   ]
  },
  {
   "cell_type": "code",
   "execution_count": null,
   "metadata": {},
   "outputs": [],
   "source": [
    "position = (2200, 1000)\n",
    "size = (1000, 1000)\n",
    "cutout_b_filter = Cutout2D(b_filter_fits.data, position, size, wcs = wcs_b_filter)\n"
   ]
  },
  {
   "cell_type": "code",
   "execution_count": null,
   "metadata": {},
   "outputs": [],
   "source": [
    "b_filter_analysis = fits.PrimaryHDU()\n",
    "b_filter_analysis.data = cutout_b_filter.data\n",
    "b_filter_analysis.header.update(cutout_b_filter.wcs.to_header())\n"
   ]
  },
  {
   "cell_type": "markdown",
   "metadata": {},
   "source": [
    "# Use TWIRL to compute WCS for the cutout"
   ]
  },
  {
   "cell_type": "code",
   "execution_count": null,
   "metadata": {},
   "outputs": [],
   "source": [
    "#compute wcs for this cutout\n",
    "peaks_b_filter = find_peaks(b_filter_analysis.data)[0:20]\n",
    "wcs_cutout_b_filter = compute_wcs(peaks_b_filter, all_radecs_b_filter[0:20], tolerance = 10)\n",
    "stetson_pos_b_filter = np.array(wcs_cutout_b_filter.world_to_pixel_values(stetson[[\"RA\", \"DEC\"]]))\n"
   ]
  },
  {
   "cell_type": "markdown",
   "metadata": {},
   "source": [
    "# Find peaks using DAO Star Finder"
   ]
  },
  {
   "cell_type": "code",
   "execution_count": null,
   "metadata": {},
   "outputs": [],
   "source": [
    "mean, median, std = sigma_clipped_stats(b_filter_analysis.data, sigma = 3.0)\n",
    "\n",
    "daofind = DAOStarFinder(fwhm = 5.0, threshold = 2 *std)\n",
    "sources = daofind(b_filter_analysis.data - median)\n",
    "for col in sources.colnames:  \n",
    "    if col not in ('id', 'npix'):\n",
    "        sources[col].info.format = '%.2f'  # for consistent table output"
   ]
  },
  {
   "cell_type": "markdown",
   "metadata": {},
   "source": [
    "# Lets convert the DAOStarFinder results into a pandas table & get what we need"
   ]
  },
  {
   "cell_type": "code",
   "execution_count": null,
   "metadata": {},
   "outputs": [],
   "source": [
    "detected_stars      = sources.to_pandas()\n",
    "detected_stars      = detected_stars[(detected_stars.flux > .60)] # Get rid of anything fainter than 0.79 mag\n",
    "detected_locaions   = np.transpose((detected_stars['xcentroid'], detected_stars['ycentroid'])) # pandas object backt o numpy array\n"
   ]
  },
  {
   "cell_type": "markdown",
   "metadata": {},
   "source": [
    "#  Overlay the Stetson star locations & DAO Star Finder peak locations on the cutout"
   ]
  },
  {
   "cell_type": "code",
   "execution_count": null,
   "metadata": {},
   "outputs": [],
   "source": [
    "\n",
    "plt.imshow(b_filter_analysis.data, vmin = np.median(b_filter_fits.data), vmax = 3 * np.median(b_filter_fits.data), cmap= \"Greys_r\")\n",
    "_ = CircularAperture(stetson_pos_b_filter, 10).plot(color=\"g\", alpha=0.5)\n",
    "_ = CircularAperture(detected_locaions, 10).plot(color=\"m\", alpha=0.5)\n",
    "ax1.set_title('Peaks found using TWIRL in B filter cutout')\n",
    "\n",
    "# Adjust layout for better spacing\n",
    "plt.tight_layout()\n",
    "plt.show()\n",
    "plt.savefig(DIRECTORY + \"Stetson(g) and Detected(m) stars.png\")\n",
    "plt.clf()"
   ]
  },
  {
   "cell_type": "markdown",
   "metadata": {},
   "source": [
    "# Add the detected coordinates from TWIRL into the to the DAOStarFinder results"
   ]
  },
  {
   "cell_type": "code",
   "execution_count": null,
   "metadata": {},
   "outputs": [],
   "source": [
    "#get RA and DEC in degrees (SkyCoord Object) in the detected steson stars\n",
    "detected_stars['coords'] = wcs_cutout_b_filter.pixel_to_world(detected_stars['xcentroid'], detected_stars['ycentroid'])\n",
    "coordinates_stetson = SkyCoord(stetson.RA, stetson.DEC, unit=u.degree) \n",
    "\n",
    "#get RA and DEC in degrees (SkyCoord Object) in the DAOStarFinder peaks\n",
    "det_radec = wcs_cutout_b_filter.pixel_to_world(detected_stars['xcentroid'], detected_stars['ycentroid'])\n",
    "coordinates_detected = SkyCoord(det_radec.ra, det_radec.dec)"
   ]
  },
  {
   "cell_type": "markdown",
   "metadata": {},
   "source": [
    "# Match with stars that are present in both tables based on SkyCoordinate Object"
   ]
  },
  {
   "cell_type": "code",
   "execution_count": null,
   "metadata": {},
   "outputs": [],
   "source": [
    "idx, d2d, d3d = coordinates_detected.match_to_catalog_sky(coordinates_stetson)\n",
    "stetson['sky'] = SkyCoord(stetson.RA, stetson.DEC, unit=u.degree)\n",
    "\n",
    "max_sep = 1.0 * u.arcsec\n",
    "sep_constraint = d2d < max_sep\n",
    "coordinates_matched = coordinates_detected[sep_constraint]\n",
    "catalog_matches = coordinates_stetson[idx[sep_constraint]]\n",
    "detected_stars['coords'] = coordinates_detected\n",
    "\n"
   ]
  },
  {
   "cell_type": "markdown",
   "metadata": {},
   "source": [
    "# Define a function to convert B-R magnitude values to effective Tempurature"
   ]
  },
  {
   "cell_type": "code",
   "execution_count": null,
   "metadata": {},
   "outputs": [],
   "source": [
    "\n",
    "# Define the empirical relation to convert B-R to temperature (in Kelvin)\n",
    "def b_r_to_temp(b_r):\n",
    "    log_temp = 3.939 - 0.395 * b_r + 0.208 * (b_r ** 2) - 0.064 * (b_r ** 3)\n",
    "    temp = 10 ** log_temp\n",
    "    return temp"
   ]
  },
  {
   "cell_type": "markdown",
   "metadata": {},
   "source": [
    "# Make the CMD & HR"
   ]
  },
  {
   "cell_type": "code",
   "execution_count": null,
   "metadata": {},
   "outputs": [],
   "source": [
    "# Get X axis\n",
    "detected_and_matched_stars_mag = []\n",
    "for i in detected_stars.index:\n",
    "    for j in range(0,len(coordinates_matched)):\n",
    "        if detected_stars.coords[i] == coordinates_matched[j]:\n",
    "            detected_and_matched_stars_mag.append(detected_stars.mag[i])\n",
    "\n",
    "stetson_and_matched_stars_r_band = []\n",
    "for i in stetson.index:\n",
    "    for j in range(0,len(catalog_matches)):\n",
    "        if(stetson.sky[i] == catalog_matches[j]):\n",
    "            stetson_and_matched_stars_r_band.append(stetson.R[i])\n",
    "\n",
    "# get Y axix\n",
    "apparent_mag = []\n",
    "for i in stetson.index:\n",
    "    for j in range(0,len(catalog_matches)):\n",
    "        if(stetson.sky[i] == catalog_matches[j]):\n",
    "            apparent_mag.append(stetson.B[i])\n",
    "\n",
    "\n",
    "stetson_and_matched_stars_r_band = np.array(stetson_and_matched_stars_r_band)\n",
    "detected_and_matched_stars_mag = np.array(detected_and_matched_stars_mag)\n",
    "apparent_mag = np.array(apparent_mag)\n",
    "\n",
    "fudge_factor = 0 * np.std(detected_and_matched_stars_mag)\n",
    "difference = stetson_and_matched_stars_r_band - (detected_and_matched_stars_mag + fudge_factor)\n",
    "\n",
    "plt.scatter(difference, apparent_mag)\n",
    "plt.xlabel('Difference (Stetson R Band - Detected B Band)')\n",
    "plt.ylabel('Apparent Magnitude')\n",
    "plt.title('Colour Magnitude Diagram')\n",
    "plt.grid(True, which=\"both\", ls=\"--\")  # Grid for both major and minor ticks\n",
    "plt.savefig(DIRECTORY + \"CMD.png\")\n",
    "plt.show()\n",
    "plt.clf()\n",
    "\n",
    "\n",
    "\n",
    "################ HR Diagram #############################################\n",
    "# Calculate effective temperatures\n",
    "efective_temp = b_r_to_temp(difference)\n",
    "\n",
    "# Normalize the B-R values for intensity mapping\n",
    "norm = mcolors.Normalize(vmin = min(difference), vmax = max(difference))\n",
    "cmap = plt.get_cmap('Blues')\n",
    "\n",
    "# Create the HR diagram with color intensity based on B-R values\n",
    "plt.figure(figsize=(10, 8))\n",
    "colors = cmap(norm(difference))\n",
    "sc = plt.scatter(efective_temp, detected_and_matched_stars_mag, color = colors, edgecolors = 'k', alpha = 0.7)\n",
    "plt.xscale('log')  # Use logarithmic scale for the x-axis\n",
    "plt.gca().invert_xaxis()  # Invert x-axis for HR diagram\n",
    "plt.gca().invert_yaxis()  # Invert y-axis to have brighter stars at the top\n",
    "plt.xlabel('Effective Temperature (K)')\n",
    "plt.ylabel('B Magnitude (Apparent Magnitude)')\n",
    "plt.title('Hertzsprung-Russell Diagram using Stetson Catalog')\n",
    "plt.grid(True, which=\"both\", ls=\"--\")  # Grid for both major and minor ticks\n",
    "\n",
    "# Add color bar\n",
    "sm = plt.cm.ScalarMappable(cmap=cmap, norm=norm)\n",
    "sm.set_array([])\n",
    "plt.colorbar(sm, label='B-R Color Index', ax=plt.gca())\n",
    "\n",
    "plt.savefig(DIRECTORY + \"HR Diagram.png\")\n",
    "plt.show()\n",
    "plt.clf()"
   ]
  },
  {
   "cell_type": "markdown",
   "metadata": {},
   "source": [
    "# Make the CMD & HR"
   ]
  },
  {
   "cell_type": "code",
   "execution_count": null,
   "metadata": {},
   "outputs": [],
   "source": [
    "# Get X axis\n",
    "detected_and_matched_stars_mag = []\n",
    "for i in detected_stars.index:\n",
    "    for j in range(0,len(coordinates_matched)):\n",
    "        if detected_stars.coords[i] == coordinates_matched[j]:\n",
    "            detected_and_matched_stars_mag.append(detected_stars.mag[i])\n",
    "\n",
    "stetson_and_matched_stars_r_band = []\n",
    "for i in stetson.index:\n",
    "    for j in range(0,len(catalog_matches)):\n",
    "        if(stetson.sky[i] == catalog_matches[j]):\n",
    "            stetson_and_matched_stars_r_band.append(stetson.R[i])\n",
    "\n",
    "# get Y axix\n",
    "apparent_mag = []\n",
    "for i in stetson.index:\n",
    "    for j in range(0,len(catalog_matches)):\n",
    "        if(stetson.sky[i] == catalog_matches[j]):\n",
    "            apparent_mag.append(stetson.B[i])\n",
    "\n",
    "\n",
    "stetson_and_matched_stars_r_band = np.array(stetson_and_matched_stars_r_band)\n",
    "detected_and_matched_stars_mag = np.array(detected_and_matched_stars_mag)\n",
    "apparent_mag = np.array(apparent_mag)\n",
    "\n",
    "fudge_factor = 0 * np.std(detected_and_matched_stars_mag)\n",
    "difference = stetson_and_matched_stars_r_band - (detected_and_matched_stars_mag + fudge_factor)\n",
    "\n",
    "plt.scatter(difference, apparent_mag)\n",
    "plt.xlabel('Difference (Stetson R Band - Detected B Band)')\n",
    "plt.ylabel('Apparent Magnitude')\n",
    "plt.title('Colour Magnitude Diagram')\n",
    "plt.grid(True, which=\"both\", ls=\"--\")  # Grid for both major and minor ticks\n",
    "plt.savefig(DIRECTORY + \"CMD.png\")\n",
    "plt.show()\n",
    "plt.clf()\n",
    "\n",
    "\n",
    "\n",
    "################ HR Diagram #############################################\n",
    "# Calculate effective temperatures\n",
    "efective_temp = b_r_to_temp(difference)\n",
    "\n",
    "# Normalize the B-R values for intensity mapping\n",
    "norm = mcolors.Normalize(vmin = min(difference), vmax = max(difference))\n",
    "cmap = plt.get_cmap('Blues')\n",
    "\n",
    "# Create the HR diagram with color intensity based on B-R values\n",
    "plt.figure(figsize=(10, 8))\n",
    "colors = cmap(norm(difference))\n",
    "sc = plt.scatter(efective_temp, detected_and_matched_stars_mag, color = colors, edgecolors = 'k', alpha = 0.7)\n",
    "plt.xscale('log')  # Use logarithmic scale for the x-axis\n",
    "plt.gca().invert_xaxis()  # Invert x-axis for HR diagram\n",
    "plt.gca().invert_yaxis()  # Invert y-axis to have brighter stars at the top\n",
    "plt.xlabel('Effective Temperature (K)')\n",
    "plt.ylabel('B Magnitude (Apparent Magnitude)')\n",
    "plt.title('Hertzsprung-Russell Diagram using Stetson Catalog')\n",
    "plt.grid(True, which=\"both\", ls=\"--\")  # Grid for both major and minor ticks\n",
    "\n",
    "# Add color bar\n",
    "sm = plt.cm.ScalarMappable(cmap=cmap, norm=norm)\n",
    "sm.set_array([])\n",
    "plt.colorbar(sm, label='B-R Color Index', ax=plt.gca())\n",
    "\n",
    "plt.savefig(DIRECTORY + \"HR Diagram.png\")\n",
    "plt.show()\n",
    "plt.clf()"
   ]
  },
  {
   "cell_type": "markdown",
   "metadata": {},
   "source": [
    "# Try using only the stetson calalog for Mag values to make cmd and HR"
   ]
  },
  {
   "cell_type": "code",
   "execution_count": null,
   "metadata": {},
   "outputs": [],
   "source": [
    "# Create the HR diagram\n",
    "plt.figure(figsize=(10, 8))\n",
    "plt.scatter(stetson['B'] - stetson['R'], stetson['B'], color='blue', edgecolors='k', alpha=0.7)\n",
    "plt.yscale('log')  # Use logarithmic scale for the y-axis\n",
    "plt.gca().invert_yaxis()  # Invert y-axis for HR diagram\n",
    "plt.xlabel('B - R (Color Index)')\n",
    "plt.ylabel('B Magnitude (Apparent Magnitude)')\n",
    "plt.title('Hertzsprung-Russell Diagram using Stetson Catalog')\n",
    "plt.grid(True, which=\"both\", ls=\"--\")  # Grid for both major and minor ticks\n",
    "plt.savefig(DIRECTORY + \"CMD (Stetsons Data).png\")\n",
    "plt.show()\n",
    "plt.clf()\n",
    "\n",
    "\n",
    "# Calculate effective temperatures\n",
    "stetson['Temperature'] = b_r_to_temp(stetson['B'] - stetson['R'])\n",
    "\n",
    "# Normalize the B-R values for intensity mapping\n",
    "norm = mcolors.Normalize(vmin=min(stetson['B'] - stetson['R']), vmax=max(stetson['B'] - stetson['R']))\n",
    "cmap = plt.get_cmap('Blues')\n",
    "\n",
    "# Create the HR diagram with color intensity based on B-R values\n",
    "plt.figure(figsize=(10, 8))\n",
    "colors = cmap(norm(stetson['B'] - stetson['R']))\n",
    "sc = plt.scatter(stetson['Temperature'], stetson['B'], color=colors, edgecolors='k', alpha=0.7)\n",
    "plt.xscale('log')  # Use logarithmic scale for the x-axis\n",
    "plt.gca().invert_xaxis()  # Invert x-axis for HR diagram\n",
    "plt.gca().invert_yaxis()  # Invert y-axis to have brighter stars at the top\n",
    "plt.xlabel('Effective Temperature (K)')\n",
    "plt.ylabel('B Magnitude (Apparent Magnitude)')\n",
    "plt.title('Color Magnitude Diagram using Stetson Catalog')\n",
    "plt.grid(True, which=\"both\", ls=\"--\")  # Grid for both major and minor ticks\n",
    "\n",
    "# Add color bar\n",
    "sm = plt.cm.ScalarMappable(cmap=cmap, norm=norm)\n",
    "sm.set_array([])\n",
    "plt.colorbar(sm, label='B-R Color Index', ax=plt.gca())\n",
    "\n",
    "plt.savefig(DIRECTORY + \"HR Diagram (Stetson Data).png\")\n",
    "plt.show()\n",
    "plt.clf()"
   ]
  },
  {
   "cell_type": "markdown",
   "metadata": {},
   "source": [
    "# Make the CMD & HR (INCLUDING FUDGE FACTOR)"
   ]
  },
  {
   "cell_type": "code",
   "execution_count": null,
   "metadata": {},
   "outputs": [],
   "source": [
    "# Get X axis\n",
    "detected_and_matched_stars_mag = []\n",
    "for i in detected_stars.index:\n",
    "    for j in range(0,len(coordinates_matched)):\n",
    "        if detected_stars.coords[i] == coordinates_matched[j]:\n",
    "            detected_and_matched_stars_mag.append(detected_stars.mag[i])\n",
    "\n",
    "stetson_and_matched_stars_r_band = []\n",
    "for i in stetson.index:\n",
    "    for j in range(0,len(catalog_matches)):\n",
    "        if(stetson.sky[i] == catalog_matches[j]):\n",
    "            stetson_and_matched_stars_r_band.append(stetson.R[i])\n",
    "\n",
    "# get Y axix\n",
    "apparent_mag = []\n",
    "for i in stetson.index:\n",
    "    for j in range(0,len(catalog_matches)):\n",
    "        if(stetson.sky[i] == catalog_matches[j]):\n",
    "            apparent_mag.append(stetson.B[i])\n",
    "\n",
    "\n",
    "stetson_and_matched_stars_r_band = np.array(stetson_and_matched_stars_r_band)\n",
    "detected_and_matched_stars_mag = np.array(detected_and_matched_stars_mag)\n",
    "apparent_mag = np.array(apparent_mag)\n",
    "\n",
    "fudge_factor = 16 * np.std(detected_and_matched_stars_mag)\n",
    "difference = stetson_and_matched_stars_r_band - (detected_and_matched_stars_mag + fudge_factor)\n",
    "\n",
    "plt.scatter(difference, apparent_mag)\n",
    "plt.xlabel('Difference (Stetson R Band - Detected B Band)')\n",
    "plt.ylabel('Apparent Magnitude')\n",
    "plt.title('Colour Magnitude Diagram')\n",
    "plt.grid(True, which=\"both\", ls=\"--\")  # Grid for both major and minor ticks\n",
    "plt.savefig(DIRECTORY + \"CMD w/ fudge factor.png\")\n",
    "plt.show()\n",
    "plt.clf()\n",
    "\n",
    "\n",
    "\n",
    "################ HR Diagram #############################################\n",
    "# Calculate effective temperatures\n",
    "efective_temp = b_r_to_temp(difference)\n",
    "\n",
    "# Normalize the B-R values for intensity mapping\n",
    "norm = mcolors.Normalize(vmin = min(difference), vmax = max(difference))\n",
    "cmap = plt.get_cmap('Blues')\n",
    "\n",
    "# Create the HR diagram with color intensity based on B-R values\n",
    "plt.figure(figsize=(10, 8))\n",
    "colors = cmap(norm(difference))\n",
    "sc = plt.scatter(efective_temp, detected_and_matched_stars_mag, color = colors, edgecolors = 'k', alpha = 0.7)\n",
    "plt.xscale('log')  # Use logarithmic scale for the x-axis\n",
    "plt.gca().invert_xaxis()  # Invert x-axis for HR diagram\n",
    "plt.gca().invert_yaxis()  # Invert y-axis to have brighter stars at the top\n",
    "plt.xlabel('Effective Temperature (K)')\n",
    "plt.ylabel('B Magnitude (Apparent Magnitude)')\n",
    "plt.title('Hertzsprung-Russell Diagram using Stetson Catalog')\n",
    "plt.grid(True, which=\"both\", ls=\"--\")  # Grid for both major and minor ticks\n",
    "\n",
    "# Add color bar\n",
    "sm = plt.cm.ScalarMappable(cmap=cmap, norm=norm)\n",
    "sm.set_array([])\n",
    "plt.colorbar(sm, label='B-R Color Index', ax=plt.gca())\n",
    "\n",
    "plt.savefig(DIRECTORY + \"HR Diagram w/ fudge factor.png\")\n",
    "plt.show()\n",
    "plt.clf()"
   ]
  }
 ],
 "metadata": {
  "kernelspec": {
   "display_name": "Python 3",
   "language": "python",
   "name": "python3"
  },
  "language_info": {
   "codemirror_mode": {
    "name": "ipython",
    "version": 3
   },
   "file_extension": ".py",
   "mimetype": "text/x-python",
   "name": "python",
   "nbconvert_exporter": "python",
   "pygments_lexer": "ipython3",
   "version": "3.12.8"
  }
 },
 "nbformat": 4,
 "nbformat_minor": 4
}
