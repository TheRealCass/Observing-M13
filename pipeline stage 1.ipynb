{
 "cells": [
  {
   "cell_type": "markdown",
   "metadata": {},
   "source": [
    "# Imports"
   ]
  },
  {
   "cell_type": "code",
   "execution_count": null,
   "metadata": {},
   "outputs": [],
   "source": [
    "# Import necessary libraries for mathematical operations and plotting\n",
    "import numpy as np\n",
    "import matplotlib.pyplot as plt\n",
    "from matplotlib.colors import LogNorm\n",
    "from matplotlib.patches import Rectangle\n",
    "\n",
    "# Import astropy modules for working with astronomical data\n",
    "import astropy.units as u\n",
    "from astropy.visualization import simple_norm, SqrtStretch\n",
    "from astropy.visualization.mpl_normalize import ImageNormalize\n",
    "from astropy.wcs import WCS\n",
    "from astropy.wcs.utils import proj_plane_pixel_scales\n",
    "from astropy.coordinates import angular_separation, Angle, SkyCoord\n",
    "from astropy.stats import sigma_clipped_stats\n",
    "from astropy.io import fits\n",
    "from astropy.nddata import Cutout2D\n",
    "# Import os for directory operations\n",
    "import os\n",
    "# Import astroalign for aligning astronomical images\n",
    "import astroalign as align\n",
    "# Import twirl for peak finding and WCS (World Coordinate System) computations\n",
    "from twirl import find_peaks\n",
    "from twirl import gaia_radecs\n",
    "from twirl.geometry import sparsify\n",
    "from twirl import compute_wcs\n",
    "# Import photutils for aperture photometry\n",
    "from photutils.aperture import SkyCircularAperture\n",
    "from photutils.detection import DAOStarFinder\n",
    "from photutils.aperture import CircularAperture\n",
    "from pylab import figure, cm\n",
    "# Import pandas for data manipulation\n",
    "import pandas as pd\n",
    "\n",
    "import random"
   ]
  },
  {
   "cell_type": "code",
   "execution_count": null,
   "metadata": {},
   "outputs": [],
   "source": [
    "#Constnats\n",
    "# BLUE_FILTER_COLOR =  'Blues'\n",
    "# RED_FILTER_COLOR =  'Reds'\n",
    "\n",
    "BLUE_FILTER_COLOR =  cm.grey\n",
    "RED_FILTER_COLOR =  cm.grey"
   ]
  },
  {
   "cell_type": "markdown",
   "metadata": {},
   "source": [
    "# Helper funcitons"
   ]
  },
  {
   "cell_type": "code",
   "execution_count": null,
   "metadata": {},
   "outputs": [],
   "source": [
    "def get_filename(directory):\n",
    "    '''\n",
    "    This gives all the filenames that are in a folder and returns them in list format\n",
    "    '''\n",
    "    filename_list=[]\n",
    "    for filename in os.scandir(directory):\n",
    "        if os.path.isfile(filename):\n",
    "            filename_list.append(filename)\n",
    "    return(filename_list)\n",
    "\n",
    "def stack_frames(file_list):\n",
    "    '''\n",
    "    This takes a list of filenames\n",
    "    Loads the data, averages all the images together\n",
    "    Returns a master image\n",
    "    '''\n",
    "    imgs1=fits.open(file_list[0])\n",
    "    data=imgs1[0].data\n",
    "\n",
    "    height=len(data[:,0])\n",
    "    width=len(data[0,:])\n",
    "    \n",
    "    master_img=np.zeros((height, width))\n",
    "    count=0\n",
    "    for file in file_list:\n",
    "        count+=1\n",
    "        imgs=fits.open(file)\n",
    "        img_data=imgs[0].data\n",
    "        master_img=master_img+img_data\n",
    "\n",
    "    master_img=master_img/count\n",
    "\n",
    "    return master_img\n",
    "\n",
    "def correct_lights(light, dark, norm_flats_bias):\n",
    "    '''\n",
    "    light = list of light file names\n",
    "    dark = master dark image\n",
    "    norm_flats_bias = normalized bias subtracted flat images\n",
    "\n",
    "    returns - list of image HDUs\n",
    "    '''\n",
    "    corr_HDU_list=[]\n",
    "    for file in light:\n",
    "        light_imgs = fits.open(file)\n",
    "        light_data = light_imgs[0].data\n",
    "        light_corr = (light_data - dark)/norm_flats_bias\n",
    "        corr_HDU_list.append(light_corr)\n",
    "    return corr_HDU_list\n",
    "\n",
    "def align_image(list_of_images, reference_image):\n",
    "    '''\n",
    "    under costruction\n",
    "    '''\n",
    "\n",
    "    height=len(reference_image[:,0])\n",
    "    width=len(reference_image[0,:])\n",
    "    Master_image=np.zeros((height, width))\n",
    "    count=0\n",
    "    for image in list_of_images:\n",
    "        count+=1\n",
    "        aligned_image, footprint=align.register(image, reference_image)\n",
    "        #after align, now stack em up\n",
    "        Master_image=Master_image+aligned_image\n",
    "\n",
    "    Master_image=Master_image/count\n",
    "\n",
    "    return Master_image"
   ]
  },
  {
   "cell_type": "markdown",
   "metadata": {},
   "source": [
    "# Target"
   ]
  },
  {
   "cell_type": "code",
   "execution_count": null,
   "metadata": {},
   "outputs": [],
   "source": [
    "DIRECTORY=\"m2/\"\n",
    "# DIRECTORY=\"m13/\""
   ]
  },
  {
   "cell_type": "markdown",
   "metadata": {},
   "source": [
    "# Gather all the files"
   ]
  },
  {
   "cell_type": "code",
   "execution_count": null,
   "metadata": {},
   "outputs": [],
   "source": [
    "#Get the file directory\n",
    "darks_directory     = DIRECTORY + \"darks/120/\"\n",
    "bias_directory      = DIRECTORY + \"bias/2x2/\"\n",
    "\n",
    "flats1B_directory   = DIRECTORY + \"Night 1/flats/B\"\n",
    "flats1R_directory   = DIRECTORY + \"Night 1/flats/R\"\n",
    "flats2B_directory   = DIRECTORY + \"Night 2/flats/B\"\n",
    "flats2R_directory   = DIRECTORY + \"Night 2/flats/R\"\n",
    "\n",
    "light1B_directory   = DIRECTORY + \"Night 1/B\"\n",
    "light1R_directory   = DIRECTORY + \"Night 1/R\"\n",
    "light2B_directory   = DIRECTORY + \"Night 2/B\"\n",
    "light2R_directory   = DIRECTORY + \"Night 2/R\"\n",
    "\n",
    "#Create arays of file names, it's easier to reference them\n",
    "darks_files         = get_filename(darks_directory)\n",
    "bias_files          = get_filename(bias_directory)\n",
    "\n",
    "flats1B_files       = get_filename(flats1B_directory)\n",
    "flats1R_files       = get_filename(flats1R_directory)\n",
    "flats2B_files       = get_filename(flats2B_directory)\n",
    "flats2R_files       = get_filename(flats2R_directory)\n",
    "\n",
    "light1B_files       = get_filename(light1B_directory)\n",
    "light1R_files       = get_filename(light1R_directory)\n",
    "light2B_files       = get_filename(light2B_directory)\n",
    "light2R_files       = get_filename(light2R_directory)\n",
    "\n",
    "print(\"Detected \" + str(len(darks_directory)) + \" dark images\")\n",
    "print(\"Detected \" + str(len(bias_files)) + \" bias images\")\n",
    "print(\"Detected \" + str(len(flats1B_files)) + \" Blue Filter images from Nov 2nd 2024\")\n",
    "print(\"Detected \" + str(len(flats1R_files)) + \" Red Filter images from Nov 2nd 2024\")\n",
    "print(\"Detected \" + str(len(flats2B_files)) + \" Blue Filter images from Nov 5th 2024\")\n",
    "print(\"Detected \" + str(len(flats2R_files)) + \" Red Filter images from Nov 5th 2024\")"
   ]
  },
  {
   "cell_type": "markdown",
   "metadata": {},
   "source": [
    "# Make master bias and darks"
   ]
  },
  {
   "cell_type": "code",
   "execution_count": null,
   "metadata": {},
   "outputs": [],
   "source": [
    "master_bias = stack_frames(bias_files) \n",
    "master_dark = stack_frames(darks_files)"
   ]
  },
  {
   "cell_type": "markdown",
   "metadata": {},
   "source": [
    "# Make master flats"
   ]
  },
  {
   "cell_type": "code",
   "execution_count": null,
   "metadata": {},
   "outputs": [],
   "source": [
    "#stack flat images for each day & filter to creat 4 master flats\n",
    "flat1B_img = stack_frames(flats1B_files)\n",
    "flat1R_img = stack_frames(flats1R_files)\n",
    "flat2B_img = stack_frames(flats2B_files)\n",
    "flat2R_img = stack_frames(flats2R_files)\n",
    "\n",
    "#Subtract the bias from the flats\n",
    "flat1B_bias = flat1B_img - master_bias \n",
    "flat1R_bias = flat1R_img - master_bias\n",
    "flat2B_bias = flat2B_img - master_bias\n",
    "flat2R_bias = flat2R_img - master_bias\n",
    "\n",
    "#Normalize by dividing by the maximum value of the array\n",
    "master_flat_1B = flat1B_bias / np.max(flat1B_bias) \n",
    "master_flat_1R = flat1R_bias / np.max(flat1R_bias)\n",
    "master_flat_2B = flat2B_bias / np.max(flat2B_bias)\n",
    "master_flat_2R = flat2R_bias / np.max(flat2R_bias)\n"
   ]
  },
  {
   "cell_type": "markdown",
   "metadata": {},
   "source": [
    "# Correct Lights"
   ]
  },
  {
   "cell_type": "code",
   "execution_count": null,
   "metadata": {},
   "outputs": [],
   "source": [
    "master_light_1B = correct_lights(light1B_files, master_dark, master_flat_1B)\n",
    "master_light_1R = correct_lights(light1R_files, master_dark, master_flat_1R)\n",
    "master_light_2B = correct_lights(light2B_files, master_dark, master_flat_2B)\n",
    "master_light_2R = correct_lights(light2R_files, master_dark, master_flat_2R)"
   ]
  },
  {
   "cell_type": "markdown",
   "metadata": {},
   "source": [
    "# Choose a reference image"
   ]
  },
  {
   "cell_type": "code",
   "execution_count": null,
   "metadata": {},
   "outputs": [],
   "source": [
    "# grab the first night\n",
    "ref_img_for_b_filter = fits.open(light1B_files[0])\n",
    "ref_img_for_r_filter = fits.open(light1R_files[0])"
   ]
  },
  {
   "cell_type": "markdown",
   "metadata": {},
   "source": [
    "# Get the data off the reference image"
   ]
  },
  {
   "cell_type": "code",
   "execution_count": null,
   "metadata": {},
   "outputs": [],
   "source": [
    "#get the header and the actual image from the choosen reference image\n",
    "ref_header_b_filter   = ref_img_for_b_filter[0].header # this header will be stamped on any fits I make\n",
    "ref_header_r_filter   = ref_img_for_r_filter[0].header # this header will be stamped on any fits I make\n",
    "\n",
    "ref_data_b_filter     = ref_img_for_b_filter[0].data   # this is be use for allighining light frames\n",
    "ref_data_r_filter     = ref_img_for_r_filter[0].data   # this is be use for allighining light frames"
   ]
  },
  {
   "cell_type": "markdown",
   "metadata": {},
   "source": [
    "# Alighn light frame from each filters"
   ]
  },
  {
   "cell_type": "code",
   "execution_count": null,
   "metadata": {},
   "outputs": [],
   "source": [
    "# make a list of all the B and R filter of the lights \n",
    "b_filter_lights = master_light_1B + master_light_2B\n",
    "r_filter_lights = master_light_1R + master_light_2R\n",
    "\n",
    "# alligh the lights using that random image we picked\n",
    "master_Bfilter_light = align_image(b_filter_lights, ref_data_b_filter)\n",
    "master_Rfilter_light = align_image(r_filter_lights, ref_data_r_filter)\n",
    "\n",
    "# create the fits file to work with\n",
    "b_filter_fits = fits.PrimaryHDU(master_Bfilter_light, ref_header_b_filter)\n",
    "r_filter_fits = fits.PrimaryHDU(master_Rfilter_light, ref_header_r_filter)"
   ]
  },
  {
   "cell_type": "markdown",
   "metadata": {},
   "source": [
    "# Let's take a look at what we have so far"
   ]
  },
  {
   "cell_type": "code",
   "execution_count": null,
   "metadata": {},
   "outputs": [],
   "source": [
    "# Create a figure and two subplots\n",
    "fig, (ax1, ax2) = plt.subplots(2, 1, figsize=(10, 8))\n",
    "\n",
    "# Plot the B filter image in the first subplot\n",
    "ax1.imshow(b_filter_fits.data, cmap = BLUE_FILTER_COLOR, norm = LogNorm(vmin = 1, vmax = 100000))\n",
    "ax1.set_title('B Filter')\n",
    "\n",
    "# Plot the R filter image in the second subplot\n",
    "ax2.imshow(r_filter_fits.data, cmap = RED_FILTER_COLOR, norm = LogNorm(vmin = 1, vmax = 100000))\n",
    "ax2.set_title('R Filter')\n",
    "\n",
    "# Add colorbars to both subplots\n",
    "fig.colorbar(ax1.imshow(b_filter_fits.data, cmap = BLUE_FILTER_COLOR, norm = LogNorm( vmin = 1, vmax = 100000 )), ax = ax1)\n",
    "fig.colorbar(ax2.imshow(r_filter_fits.data, cmap = RED_FILTER_COLOR, norm = LogNorm( vmin = 1, vmax = 100000 )), ax = ax2)\n",
    "\n",
    "# Adjust the layout to prevent overlap\n",
    "plt.tight_layout()\n",
    "\n",
    "# Save the figure to the drive\n",
    "output_filepath = DIRECTORY + \"B & R filter lights.jpg\"\n",
    "plt.savefig(output_filepath, format='jpg')\n",
    "\n",
    "# Display the plot\n",
    "plt.show()\n",
    "plt.clf()"
   ]
  },
  {
   "cell_type": "markdown",
   "metadata": {},
   "source": [
    "# Save the Lights as FITS files"
   ]
  },
  {
   "cell_type": "code",
   "execution_count": null,
   "metadata": {},
   "outputs": [],
   "source": [
    "# locate the place you wanna save the fits files\n",
    "output_directory_b_filter = DIRECTORY + \"Light_B.fits\"\n",
    "output_directory_r_filter = DIRECTORY + \"Light_R.fits\"\n",
    "\n",
    "# write the files to drive\n",
    "b_filter_fits.writeto(output_directory_b_filter, overwrite = True)\n",
    "r_filter_fits.writeto(output_directory_r_filter, overwrite = True)\n"
   ]
  }
 ],
 "metadata": {
  "kernelspec": {
   "display_name": "Python 3",
   "language": "python",
   "name": "python3"
  },
  "language_info": {
   "codemirror_mode": {
    "name": "ipython",
    "version": 3
   },
   "file_extension": ".py",
   "mimetype": "text/x-python",
   "name": "python",
   "nbconvert_exporter": "python",
   "pygments_lexer": "ipython3",
   "version": "3.12.8"
  }
 },
 "nbformat": 4,
 "nbformat_minor": 4
}
