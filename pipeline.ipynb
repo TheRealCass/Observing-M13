{
 "cells": [
  {
   "cell_type": "code",
   "execution_count": 1,
   "metadata": {},
   "outputs": [],
   "source": [
    "# Import necessary libraries for mathematical operations and plotting\n",
    "import numpy as np\n",
    "import matplotlib.pyplot as plt\n",
    "from matplotlib.colors import LogNorm\n",
    "from matplotlib.patches import Rectangle\n",
    "import matplotlib.colors as mcolors\n",
    "\n",
    "# Import astropy modules for working with astronomical data\n",
    "import astropy.units as u\n",
    "from astropy.visualization import simple_norm, SqrtStretch\n",
    "from astropy.visualization.mpl_normalize import ImageNormalize\n",
    "from astropy.wcs import WCS\n",
    "from astropy.wcs.utils import proj_plane_pixel_scales\n",
    "from astropy.coordinates import angular_separation, Angle, SkyCoord\n",
    "from astropy.stats import sigma_clipped_stats\n",
    "from astropy.io import fits\n",
    "from astropy.nddata import Cutout2D\n",
    "# Import os for directory operations\n",
    "import os\n",
    "# Import astroalign for aligning astronomical images\n",
    "import astroalign as align\n",
    "# Import twirl for peak finding and WCS (World Coordinate System) computations\n",
    "from twirl import find_peaks\n",
    "from twirl import gaia_radecs\n",
    "from twirl.geometry import sparsify\n",
    "from twirl import compute_wcs\n",
    "# Import photutils for aperture photometry\n",
    "from photutils.aperture import SkyCircularAperture\n",
    "from photutils.detection import DAOStarFinder\n",
    "from photutils.aperture import CircularAperture\n",
    "from pylab import figure, cm\n",
    "# Import pandas for data manipulation\n",
    "import pandas as pd\n",
    "\n",
    "import random"
   ]
  },
  {
   "cell_type": "code",
   "execution_count": 2,
   "metadata": {},
   "outputs": [],
   "source": [
    "\n",
    "BLUE_FILTER_COLOR =  cm.grey\n",
    "RED_FILTER_COLOR =  cm.grey\n",
    "DIRECTORY=\"m2/\""
   ]
  },
  {
   "cell_type": "code",
   "execution_count": 3,
   "metadata": {},
   "outputs": [],
   "source": [
    "# Define the directories where the FITS files are stored\n",
    "directory_b_filter = DIRECTORY + \"Light_B.fits\"\n",
    "\n",
    "# Load the FITS files into variables\n",
    "b_filter_fits = fits.open(directory_b_filter)\n",
    "b_filter_fits = b_filter_fits[0]\n",
    "\n",
    "\n",
    "############################################################# R filter\n",
    "directory_r_filter = DIRECTORY + \"Light_R.fits\"\n",
    "\n",
    "# Load the FITS files into variables\n",
    "r_filter_fits = fits.open(directory_r_filter)\n",
    "r_filter_fits = r_filter_fits[0]\n"
   ]
  },
  {
   "cell_type": "code",
   "execution_count": 4,
   "metadata": {},
   "outputs": [],
   "source": [
    "# load the data from memory\n",
    "coords = pd.read_csv( DIRECTORY + \"NGC7089.pos\", sep='[ ]{2,}', engine='python') # replace anything w 2 or more spaces with just a space\n",
    "mags = pd.read_csv(DIRECTORY + \"NGC7089.pho\", sep='[ ]{1,}', engine='python') # replace anything w 1 or more spaces with just a space\n",
    "\n"
   ]
  },
  {
   "cell_type": "markdown",
   "metadata": {},
   "source": [
    "# Let's extract what we need from the stetson database"
   ]
  },
  {
   "cell_type": "code",
   "execution_count": 5,
   "metadata": {},
   "outputs": [],
   "source": [
    "# add coloum names to the coordinate file\n",
    "coords.rename(columns={'323.36209232807' : 'RA', '-00.84555554920' : 'DEC'}, inplace=True) # replace the orgonal col names for somethig meaningfull\n",
    "\n",
    "# Convert the DEC column to string type first\n",
    "coords['DEC'] = coords['DEC'].astype(str)\n",
    "\n",
    "# Now you can use the .str accessor to replace spaces\n",
    "coords['DEC'] = coords['DEC'].str.replace(\" \", \"\")\n",
    "\n",
    "# Convert the DEC column back to float type\n",
    "coords['DEC'] = coords['DEC'].astype(float)\n",
    "\n",
    "# Perform the merge with the photometry data\n",
    "stetson = pd.merge(coords[[\"Reference\", 'RA', 'DEC']], mags[[\"Reference\", 'B', 'sigma.1', 'R', 'sigma.3']], how='inner', on=['Reference'])\n",
    "\n",
    "# Filter the stars with magnitude of 18 or brighter\n",
    "stetson = stetson[(stetson.B < 19) & (stetson.R < 19)]\n",
    "\n",
    "stetson_b_filter = stetson[[\"Reference\", 'RA', 'DEC', 'B', 'sigma.1']]\n",
    "stetson_r_filter = stetson[[\"Reference\", 'RA', 'DEC', 'R', 'sigma.3']]\n"
   ]
  },
  {
   "cell_type": "markdown",
   "metadata": {},
   "source": [
    "# Lets define & Work with a small subsection\n",
    "#### FOV too large"
   ]
  },
  {
   "cell_type": "code",
   "execution_count": 6,
   "metadata": {},
   "outputs": [],
   "source": [
    "position = (2200, 1000)\n",
    "size = (1000, 1000)\n",
    "cutout_b_filter = Cutout2D(b_filter_fits.data, position, size)\n",
    "cutout_r_filter = Cutout2D(r_filter_fits.data, position, size)\n"
   ]
  },
  {
   "cell_type": "code",
   "execution_count": 8,
   "metadata": {},
   "outputs": [],
   "source": [
    "#make 2 empyth fits files\n",
    "b_filter_analysis = fits.PrimaryHDU()\n",
    "r_filter_analysis = fits.PrimaryHDU()\n",
    "\n",
    "#point them to the cutout data\n",
    "b_filter_analysis.data = cutout_b_filter.data\n",
    "r_filter_analysis.data = cutout_r_filter.data\n",
    "\n",
    "# b_filter_analysis.header.update(cutout_b_filter.wcs.to_header())\n",
    "# r_filter_analysis.header.update(cutout_r_filter.wcs.to_header())\n"
   ]
  },
  {
   "cell_type": "code",
   "execution_count": 9,
   "metadata": {},
   "outputs": [
    {
     "ename": "NameError",
     "evalue": "name 'all_radecs_b_filter' is not defined",
     "output_type": "error",
     "traceback": [
      "\u001b[1;31m---------------------------------------------------------------------------\u001b[0m",
      "\u001b[1;31mNameError\u001b[0m                                 Traceback (most recent call last)",
      "Cell \u001b[1;32mIn[9], line 3\u001b[0m\n\u001b[0;32m      1\u001b[0m \u001b[38;5;66;03m#compute wcs for this cutout\u001b[39;00m\n\u001b[0;32m      2\u001b[0m peaks_b_filter \u001b[38;5;241m=\u001b[39m find_peaks(b_filter_analysis\u001b[38;5;241m.\u001b[39mdata)[\u001b[38;5;241m0\u001b[39m:\u001b[38;5;241m20\u001b[39m]\n\u001b[1;32m----> 3\u001b[0m wcs_cutout_b_filter \u001b[38;5;241m=\u001b[39m compute_wcs(peaks_b_filter, \u001b[43mall_radecs_b_filter\u001b[49m[\u001b[38;5;241m0\u001b[39m:\u001b[38;5;241m30\u001b[39m], tolerance \u001b[38;5;241m=\u001b[39m \u001b[38;5;241m10\u001b[39m)\n\u001b[0;32m      4\u001b[0m stetson_pos_b_filter \u001b[38;5;241m=\u001b[39m np\u001b[38;5;241m.\u001b[39marray(wcs_cutout_b_filter\u001b[38;5;241m.\u001b[39mworld_to_pixel_values(stetson[[\u001b[38;5;124m\"\u001b[39m\u001b[38;5;124mRA\u001b[39m\u001b[38;5;124m\"\u001b[39m, \u001b[38;5;124m\"\u001b[39m\u001b[38;5;124mDEC\u001b[39m\u001b[38;5;124m\"\u001b[39m]]))\n\u001b[0;32m      7\u001b[0m peaks_r_filter \u001b[38;5;241m=\u001b[39m find_peaks(r_filter_analysis\u001b[38;5;241m.\u001b[39mdata)[\u001b[38;5;241m0\u001b[39m:\u001b[38;5;241m20\u001b[39m]\n",
      "\u001b[1;31mNameError\u001b[0m: name 'all_radecs_b_filter' is not defined"
     ]
    }
   ],
   "source": [
    "#compute wcs for this cutout\n",
    "peaks_b_filter = find_peaks(b_filter_analysis.data)[0:20]\n",
    "wcs_cutout_b_filter = compute_wcs(peaks_b_filter, all_radecs_b_filter[0:30], tolerance = 10)\n",
    "stetson_pos_b_filter = np.array(wcs_cutout_b_filter.world_to_pixel_values(stetson[[\"RA\", \"DEC\"]]))\n",
    "\n",
    "\n",
    "peaks_r_filter = find_peaks(r_filter_analysis.data)[0:20]\n",
    "wcs_cutout_r_filter = compute_wcs(peaks_r_filter, all_radecs_r_filter[0:30], tolerance = 10)\n",
    "stetson_pos_r_filter = np.array(wcs_cutout_r_filter.world_to_pixel_values(stetson[[\"RA\", \"DEC\"]]))\n"
   ]
  },
  {
   "cell_type": "code",
   "execution_count": null,
   "metadata": {},
   "outputs": [],
   "source": [
    "# Create a new figure\n",
    "fig = plt.figure(figsize=(10, 8))\n",
    "\n",
    "# Blue filter plot on top\n",
    "ax1 = fig.add_subplot(2, 1, 1, projection = wcs_b_filter)\n",
    "ax1.imshow(b_filter_analysis.data, vmin=np.median(b_filter_fits.data), vmax=3 * np.median(b_filter_fits.data), cmap=\"Greys_r\")\n",
    "CircularAperture(stetson_pos_b_filter, 10).plot(ax=ax1, color=\"m\", alpha=0.5)\n",
    "ax1.set_title('Blue Filter')\n",
    "\n",
    "# Red filter plot on bottom\n",
    "ax2 = fig.add_subplot(2, 1, 2, projection = wcs_r_filter)\n",
    "ax2.imshow(r_filter_analysis.data, vmin=np.median(r_filter_fits.data), vmax=3 * np.median(r_filter_fits.data), cmap=\"Greys_r\")\n",
    "CircularAperture(stetson_pos_r_filter, 10).plot(ax=ax2, color=\"m\", alpha=0.5)\n",
    "ax2.set_title('Red Filter')\n",
    "\n",
    "# Adjust layout for better spacing\n",
    "plt.tight_layout()\n",
    "plt.show()\n",
    "plt.savefig(DIRECTORY + \"TWIRL peaks in curout.jpg\")\n"
   ]
  }
 ],
 "metadata": {
  "kernelspec": {
   "display_name": "Python 3",
   "language": "python",
   "name": "python3"
  },
  "language_info": {
   "codemirror_mode": {
    "name": "ipython",
    "version": 3
   },
   "file_extension": ".py",
   "mimetype": "text/x-python",
   "name": "python",
   "nbconvert_exporter": "python",
   "pygments_lexer": "ipython3",
   "version": "3.12.8"
  }
 },
 "nbformat": 4,
 "nbformat_minor": 4
}
